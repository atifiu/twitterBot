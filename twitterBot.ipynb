{
 "cells": [
  {
   "cell_type": "code",
   "execution_count": 32,
   "id": "f3ebf1b4",
   "metadata": {},
   "outputs": [],
   "source": [
    "!pip freeze > requirements.txt"
   ]
  },
  {
   "cell_type": "code",
   "execution_count": 33,
   "id": "c1fc2efd",
   "metadata": {},
   "outputs": [],
   "source": [
    "#Required libaries\n",
    "from datetime import datetime, timezone, timedelta\n",
    "import csv\n",
    "import sys, os\n",
    "import glob\n",
    "import tweepy\n",
    "from configparser import ConfigParser\n",
    "#import tkinter"
   ]
  },
  {
   "cell_type": "code",
   "execution_count": 34,
   "id": "4f3f539a",
   "metadata": {},
   "outputs": [],
   "source": [
    "def config_reader() :\n",
    "    try:\n",
    "        config_object = ConfigParser()\n",
    "        #config_object.read(\"memoptimize.cfg\")\n",
    "        files = glob.glob(\"credentials.cfg\")\n",
    "        config_object.read(files)\n",
    "        return config_object\n",
    "    except KeyError as k:\n",
    "        print(f\"Key is missing in the config file {k}\")\n",
    "    #arraysize = 1\n",
    "    #enable_testcase = 'Y'\n",
    "\n",
    "    #Get the password\n",
    "    #twitter = config_object[\"TWITTER\"]\n",
    "    #consumer_key = twitter[\"consumer_key\"]\n",
    "    #consumer_secret = twitter[\"consumer_secret\"]\n",
    "    #access_token = twitter[\"access_token\"]\n",
    "    #access_token_secret = twitter[\"access_token_secret\"]\n",
    "    "
   ]
  },
  {
   "cell_type": "code",
   "execution_count": 35,
   "id": "3a9228c5",
   "metadata": {},
   "outputs": [],
   "source": [
    "def tweepyAuthenticate():\n",
    "    config_object = config_reader()\n",
    "    #auth = tweepy.OAuthHandler(\"OyEwy3vUmGJUVATYEBIHyh6mB\", \"4o00Jf50LSzdNTlXLbsAUZVohxA1lfPTxDvHvcEa6tOFORDJug\")\n",
    "    auth = tweepy.OAuthHandler(config_object.get('TWITTER', 'consumer_key'), config_object.get('TWITTER', 'consumer_secret'))\n",
    "    #auth.set_access_token(\"3322503788-oduR2Uu5uLrTFx3dPCiCs4E0m8LIN4VfsyGdWTi\",\"R1iQxAkEsA91MehaZMxARSip6Shc8CJeP4sqX7TiPsHFJ\")\n",
    "    auth.set_access_token(config_object.get('TWITTER', 'access_token'), config_object.get('TWITTER', 'access_token_secret'))\n",
    "    api = tweepy.API(auth)\n",
    "    # test authentication\n",
    "    try:\n",
    "        api.verify_credentials()\n",
    "        print(\"Authentication OK\")\n",
    "        return api, config_object\n",
    "    except:\n",
    "        print(\"Error during authentication\")"
   ]
  },
  {
   "cell_type": "code",
   "execution_count": 36,
   "id": "13f9e805",
   "metadata": {},
   "outputs": [],
   "source": [
    "def getLatestFile(folder_path):   \n",
    "    #folder_path = r'C:\\Users\\Ron\\Desktop\\Test'\n",
    "    file_type = r'\\*csv'\n",
    "    files = glob.glob(folder_path + file_type)\n",
    "    max_file = max(files, key=os.path.getctime)\n",
    "\n",
    "    #print(max_file)\n",
    "    return max_file"
   ]
  },
  {
   "cell_type": "code",
   "execution_count": 37,
   "id": "7509ac3d",
   "metadata": {},
   "outputs": [],
   "source": [
    "def getSearchDateTime():\n",
    "    print(os.getcwd())\n",
    "    #os.chdir('data/twitterFavorite')\n",
    "    #print(os.getcwd())\n",
    "    if len(glob.glob(os.getcwd()+r\"/data/twitterFavorite/*.csv\")) > 0:\n",
    "        filename = getLatestFile(os.getcwd()+r\"/data/twitterFavorite\")\n",
    "        print(filename)\n",
    "        filetime= filename[filename.rfind('_')+1:filename.rfind('.csv')]\n",
    "        print(type(datetime.strptime(filetime, '%Y%m%d%H%M')))\n",
    "        print(datetime.strptime(filetime, '%Y%m%d%H%M').replace(tzinfo=timezone.utc))\n",
    "        return datetime.strptime(filetime, '%Y%m%d%H%M').replace(tzinfo=timezone.utc)\n",
    "    else:\n",
    "        return datetime.now(timezone.utc) - timedelta(hours=1)"
   ]
  },
  {
   "cell_type": "code",
   "execution_count": 38,
   "id": "6a3c7f26",
   "metadata": {},
   "outputs": [],
   "source": [
    "def write_csv(list_write):\n",
    "    keys = list_write[0].keys()\n",
    "    fileGenerated = datetime.now(timezone.utc).strftime(\"%Y%m%d%H%M\")\n",
    "    with open(r'data\\twitterFavorite\\twitter_favorite_'+fileGenerated+'.csv', 'w', newline='') as output_file:\n",
    "        dict_writer = csv.DictWriter(output_file, keys)\n",
    "        dict_writer.writeheader()\n",
    "        dict_writer.writerows(list_write)"
   ]
  },
  {
   "cell_type": "markdown",
   "id": "eedb4b5d",
   "metadata": {},
   "source": [
    "### Function favoriteTweet to mark tweets as favorite based on search criteria"
   ]
  },
  {
   "cell_type": "code",
   "execution_count": 39,
   "id": "e0ef6582",
   "metadata": {},
   "outputs": [],
   "source": [
    "def favoriteTweet():\n",
    "    search_list = [\"#python\", \"#matplotlib\", \"#pandas\", \"#streamlit\",\"#seaborn\"]\n",
    "    #search = \"#python\"\n",
    "    lang = \"en\"\n",
    "    numberOfTweets = 20\n",
    "    list_write = []\n",
    "    datetime_object = getSearchDateTime()\n",
    "    api, _ = tweepyAuthenticate()\n",
    "    print(\"date beyond which search to start\", datetime_object)\n",
    "    for search in search_list:\n",
    "        #print(f\"searching tag {search}\")\n",
    "        for tweet in tweepy.Cursor(api.search_tweets, search, lang = lang, result_type = 'recent').items(numberOfTweets):\n",
    "            try:\n",
    "                #datetime_str = '2022-12-26 18:00:09+00:00'\n",
    "                #datetime_object = datetime.strptime(datetime_str, '%Y-%m-%d %H:%M:%S%z')\n",
    "\n",
    "                if tweet.created_at > datetime_object :\n",
    "                    #print(tweet.user.screen_name)\n",
    "                    #print(tweet.favorited)\n",
    "                    #print(\"Tweet created time \",tweet.created_at)\n",
    "                    try:\n",
    "                        url = tweet.entities['urls'][0]['url']\n",
    "                        expanded_url = tweet.entities['urls'][0]['expanded_url']\n",
    "                    except IndexError:\n",
    "                        url = \"\"\n",
    "                        expanded_url = \"\"\n",
    "                    #print(tweet)\n",
    "                    #print(tweet.entities['urls'][0])\n",
    "                    #print(tweet.entities.urls.expanded_url)\n",
    "                    #print(str(tweet.created_at))\n",
    "                    #print(\"convert to string\", tweet.created_at.strftime(\"%Y-%m-%d %H:%M:%S\"))\n",
    "                    list_write.append({\"id\":tweet.id,\"created_at\":tweet.created_at.strftime(\"%Y-%m-%d %H:%M:%S\"),\\\n",
    "                                       \"tag\":search,\"screen_name\":tweet.user.screen_name,\\\n",
    "                                       \"text\":(tweet.text).replace('\\n','').encode('utf-8'), \"url\":url,\\\n",
    "                                       \"expanded_url\":expanded_url,\\\n",
    "                                       \"favorited_at\":datetime.now(timezone.utc).strftime(\"%Y-%m-%d %H:%M:%S\")})\n",
    "                    tweet.favorite()\n",
    "                    #print('favorited the tweet')\n",
    "            except tweepy.TweepyException as e:\n",
    "                print(e.api_errors)\n",
    "            except StopIteration:\n",
    "                break\n",
    "\n",
    "    #print(list_write)\n",
    "    write_csv(list_write)"
   ]
  },
  {
   "cell_type": "markdown",
   "id": "48cade3e",
   "metadata": {},
   "source": [
    "### Below code to follow all IDs following my ID"
   ]
  },
  {
   "cell_type": "code",
   "execution_count": 40,
   "id": "f534126a",
   "metadata": {},
   "outputs": [],
   "source": [
    "def followFollowers():\n",
    "    followers = []\n",
    "    \n",
    "    api, config_object = tweepyAuthenticate()\n",
    "    screen_name = config_object.get('TWITTER', 'screenName')#\"mohdatif1987\"\n",
    "    print(f\"Followers (accounts who follow {screen_name})\")\n",
    "    for page in tweepy.Cursor(api.get_followers, screen_name=screen_name,\n",
    "                              count=100).pages(10):\n",
    "        for user in page:\n",
    "            name = f\"{user.id} - {user.name} (@{user.screen_name})\"\n",
    "            followers.append(name)\n",
    "            if not user.following:\n",
    "                print(f\"{user.screen_name}\")\n",
    "                try:\n",
    "                    api.create_friendship(user_id = user.id, follow = False)\n",
    "                except tweepy.TweepyException as e:\n",
    "                    print(e.api_errors)\n",
    "                    continue\n",
    "                print(f\"Started following {user.screen_name}\")\n",
    "        print(len(page))\n",
    "\n",
    "    print(f\"Followers: {len(followers)}\")\n",
    "    #print(followers)"
   ]
  },
  {
   "cell_type": "code",
   "execution_count": 41,
   "id": "fc3d57d6",
   "metadata": {},
   "outputs": [
    {
     "name": "stdout",
     "output_type": "stream",
     "text": [
      "Authentication OK\n",
      "Followers (accounts who follow mohdatif1987)\n",
      "dong_marcelo\n",
      "Started following dong_marcelo\n",
      "mindyourownj\n",
      "[{'code': 160, 'message': \"You've already requested to follow mindyourownj.\"}]\n",
      "drew_zter\n",
      "[{'code': 160, 'message': \"You've already requested to follow drew_zter.\"}]\n",
      "_Iris__Lee\n",
      "[{'code': 160, 'message': \"You've already requested to follow _Iris__Lee.\"}]\n",
      "shshp4\n",
      "[{'code': 160, 'message': \"You've already requested to follow shshp4.\"}]\n",
      "Livesinashell\n",
      "[{'code': 160, 'message': \"You've already requested to follow Livesinashell.\"}]\n",
      "Wilmond621\n",
      "[{'code': 160, 'message': \"You've already requested to follow Wilmond621.\"}]\n",
      "saritha928\n",
      "[{'code': 160, 'message': \"You've already requested to follow saritha928.\"}]\n",
      "Icy_Bug33\n",
      "[{'code': 160, 'message': \"You've already requested to follow Icy_Bug33.\"}]\n",
      "IslasNogueira\n",
      "[{'code': 160, 'message': \"You've already requested to follow IslasNogueira.\"}]\n",
      "AJAYSHA09409916\n",
      "[{'code': 160, 'message': \"You've already requested to follow AJAYSHA09409916.\"}]\n",
      "100\n",
      "tweetluqman\n",
      "[{'code': 160, 'message': \"You've already requested to follow tweetluqman.\"}]\n",
      "24\n",
      "Followers: 124\n"
     ]
    }
   ],
   "source": [
    "if __name__ == \"__main__\":\n",
    "    #favoriteTweet()\n",
    "    followFollowers()"
   ]
  }
 ],
 "metadata": {
  "kernelspec": {
   "display_name": "Python 3 (ipykernel)",
   "language": "python",
   "name": "python3"
  },
  "language_info": {
   "codemirror_mode": {
    "name": "ipython",
    "version": 3
   },
   "file_extension": ".py",
   "mimetype": "text/x-python",
   "name": "python",
   "nbconvert_exporter": "python",
   "pygments_lexer": "ipython3",
   "version": "3.10.4"
  }
 },
 "nbformat": 4,
 "nbformat_minor": 5
}
